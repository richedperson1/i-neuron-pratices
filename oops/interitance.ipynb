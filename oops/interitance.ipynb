{
 "cells": [
  {
   "cell_type": "markdown",
   "metadata": {},
   "source": [
    "### Multiple inheritance \n"
   ]
  },
  {
   "cell_type": "code",
   "execution_count": 2,
   "metadata": {},
   "outputs": [
    {
     "name": "stdout",
     "output_type": "stream",
     "text": [
      "5\n"
     ]
    }
   ],
   "source": [
    "# multiple inheritance\n",
    "\"\"\"\n",
    "Multiple inheritance is simply achive by calling init function it-self in child class\n",
    "\n",
    "\"\"\"\n",
    "\n",
    "\n",
    "class parent:\n",
    "    def __init__(self, a, b, c) -> None:\n",
    "        self.a = a\n",
    "        self.b = b\n",
    "        self.c = c\n",
    "\n",
    "    def speak(self):\n",
    "        return \"Yes I can able to speak hindi,marathi , English,spanish\"\n",
    "\n",
    "\n",
    "class parent1:\n",
    "    def __init__(self, p, q, r) -> None:\n",
    "        self.p = p\n",
    "        self.q = q\n",
    "        self.r = r\n",
    "\n",
    "    def speak(self):\n",
    "        return \"Yes I can able to speak hindi/English\"\n",
    "\n",
    "\n",
    "class child_1(parent, parent1):\n",
    "    def __init__(self, a, b, c, p, q, r):\n",
    "        parent.__init__(self, a, b, c)\n",
    "        parent1.__init__(self, p, q, r)\n",
    "\n",
    "\n",
    "rutvik = child_1(5, 6, 4, '12lpa', '18lpa', '24lpa')\n",
    "\n",
    "print(rutvik.a)\n"
   ]
  },
  {
   "cell_type": "markdown",
   "metadata": {},
   "source": [
    "## Multi-level inheritance "
   ]
  },
  {
   "cell_type": "code",
   "execution_count": 10,
   "metadata": {},
   "outputs": [
    {
     "ename": "AttributeError",
     "evalue": "'beta' object has no attribute 'g1'",
     "output_type": "error",
     "traceback": [
      "\u001b[1;31m---------------------------------------------------------------------------\u001b[0m",
      "\u001b[1;31mAttributeError\u001b[0m                            Traceback (most recent call last)",
      "\u001b[1;32m~\\AppData\\Local\\Temp/ipykernel_2260/674832917.py\u001b[0m in \u001b[0;36m<module>\u001b[1;34m\u001b[0m\n\u001b[0;32m     28\u001b[0m \u001b[1;31m# sam = beta(420,19,12,21,10,42)\u001b[0m\u001b[1;33m\u001b[0m\u001b[1;33m\u001b[0m\u001b[1;33m\u001b[0m\u001b[0m\n\u001b[0;32m     29\u001b[0m \u001b[0msam\u001b[0m \u001b[1;33m=\u001b[0m \u001b[0mbeta\u001b[0m\u001b[1;33m(\u001b[0m\u001b[1;36m25\u001b[0m\u001b[1;33m,\u001b[0m\u001b[1;36m36\u001b[0m\u001b[1;33m,\u001b[0m\u001b[1;36m26\u001b[0m\u001b[1;33m,\u001b[0m\u001b[1;36m63\u001b[0m\u001b[1;33m)\u001b[0m\u001b[1;33m\u001b[0m\u001b[1;33m\u001b[0m\u001b[0m\n\u001b[1;32m---> 30\u001b[1;33m \u001b[0msam\u001b[0m\u001b[1;33m.\u001b[0m\u001b[0mg1\u001b[0m\u001b[1;33m\u001b[0m\u001b[1;33m\u001b[0m\u001b[0m\n\u001b[0m",
      "\u001b[1;31mAttributeError\u001b[0m: 'beta' object has no attribute 'g1'"
     ]
    }
   ],
   "source": [
    "class grad_father:\n",
    "    def __init__(self,g1,g2) -> None:\n",
    "        self.g1 = g1\n",
    "        self.g2 = g2\n",
    "\n",
    "    def grad_call(self):\n",
    "        return \"I am your grand father so respect kiya karo bhai \"\n",
    "\n",
    "\n",
    "class father(grad_father):\n",
    "    def __init__(self, f1, f2,g1_p,g2_p) :\n",
    "        self.f1 = f1\n",
    "        self.f2 = f2\n",
    "        # super().__init__(g1_p,g2_p)\n",
    "\n",
    "    def test(self):\n",
    "        return \"I am the king\"\n",
    "class beta(father):\n",
    "    # def __init__(self,*arg):\n",
    "        # super().__init__(*arg)\n",
    "    # def __init__(self, f1, f2, g1_p, g2_p):\n",
    "    #     super().__init__(f1, f2, g1_p, g2_p)\n",
    "    def test(self):\n",
    "        return \"Im son\"\n",
    "\n",
    "\n",
    "\n",
    "# sam = beta(420,19,12,21,10,42)\n",
    "sam = beta(25,36,26,63)\n",
    "sam.g1"
   ]
  },
  {
   "cell_type": "code",
   "execution_count": 26,
   "metadata": {},
   "outputs": [
    {
     "ename": "AttributeError",
     "evalue": "'beta' object has no attribute 'g1'",
     "output_type": "error",
     "traceback": [
      "\u001b[1;31m---------------------------------------------------------------------------\u001b[0m",
      "\u001b[1;31mAttributeError\u001b[0m                            Traceback (most recent call last)",
      "\u001b[1;32m~\\AppData\\Local\\Temp/ipykernel_2260/1807603327.py\u001b[0m in \u001b[0;36m<module>\u001b[1;34m\u001b[0m\n\u001b[0;32m     26\u001b[0m \u001b[1;33m\u001b[0m\u001b[0m\n\u001b[0;32m     27\u001b[0m \u001b[0msam\u001b[0m \u001b[1;33m=\u001b[0m \u001b[0mbeta\u001b[0m\u001b[1;33m(\u001b[0m\u001b[1;36m25\u001b[0m\u001b[1;33m,\u001b[0m\u001b[1;36m35\u001b[0m\u001b[1;33m,\u001b[0m\u001b[1;36m45\u001b[0m\u001b[1;33m,\u001b[0m\u001b[1;36m55\u001b[0m\u001b[1;33m)\u001b[0m\u001b[1;33m\u001b[0m\u001b[1;33m\u001b[0m\u001b[0m\n\u001b[1;32m---> 28\u001b[1;33m \u001b[0msam\u001b[0m\u001b[1;33m.\u001b[0m\u001b[0mg1\u001b[0m\u001b[1;33m\u001b[0m\u001b[1;33m\u001b[0m\u001b[0m\n\u001b[0m",
      "\u001b[1;31mAttributeError\u001b[0m: 'beta' object has no attribute 'g1'"
     ]
    }
   ],
   "source": [
    "class grad_father:\n",
    "    def __init__(self,g1,g2) -> None:\n",
    "        self.g1 = g1\n",
    "        self.g2 = g2\n",
    "\n",
    "    def grad_call(self):\n",
    "        return \"I am your grand father so respect kiya karo bhai \"\n",
    "\n",
    "\n",
    "class father(grad_father):\n",
    "    def __init__(self, f1, f2) :\n",
    "        self.f1 = f1\n",
    "        self.f2 = f2\n",
    "        # super().__init__(g1, g2)\n",
    "    def test(self):\n",
    "        return \"I am the king\"\n",
    "\n",
    "class beta(father):\n",
    "    def __init__(self, f1, f2,c1,c2) :\n",
    "        super().__init__(f1, f2)\n",
    "        self.c1 = c1\n",
    "        self.c2 = c2\n",
    "\n",
    "    def test(self):\n",
    "        return \"Im son\"\n",
    "\n",
    "sam = beta()"
   ]
  }
 ],
 "metadata": {
  "interpreter": {
   "hash": "1a9f55e6c0c3e8270aaaea3c20f99dc257fa0576e4add963feab5626a78e27dc"
  },
  "kernelspec": {
   "display_name": "Python 3.9.6 64-bit",
   "language": "python",
   "name": "python3"
  },
  "language_info": {
   "codemirror_mode": {
    "name": "ipython",
    "version": 3
   },
   "file_extension": ".py",
   "mimetype": "text/x-python",
   "name": "python",
   "nbconvert_exporter": "python",
   "pygments_lexer": "ipython3",
   "version": "3.9.6"
  },
  "orig_nbformat": 4
 },
 "nbformat": 4,
 "nbformat_minor": 2
}
