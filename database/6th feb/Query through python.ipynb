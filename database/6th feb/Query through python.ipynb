{
 "cells": [
  {
   "cell_type": "markdown",
   "metadata": {},
   "source": [
    "## Library "
   ]
  },
  {
   "cell_type": "code",
   "execution_count": 1,
   "metadata": {},
   "outputs": [],
   "source": [
    "import mysql.connector as con\n",
    "import pandas as pd"
   ]
  },
  {
   "cell_type": "markdown",
   "metadata": {},
   "source": [
    "## Query connection"
   ]
  },
  {
   "cell_type": "code",
   "execution_count": 2,
   "metadata": {},
   "outputs": [
    {
     "name": "stdout",
     "output_type": "stream",
     "text": [
      "[('col1', b'int', 'YES', '', None, ''), ('col2', b'float(10,5)', 'YES', '', None, ''), ('col3', b'float(10,5)', 'YES', '', None, ''), ('col4', b'float(10,5)', 'YES', '', None, ''), ('col5', b'float(10,5)', 'YES', '', None, ''), ('col6', b'float(10,5)', 'YES', '', None, ''), ('clo7', b'float(10,5)', 'YES', '', None, ''), ('col8', b'float(10,5)', 'YES', '', None, ''), ('col9', b'float(10,5)', 'YES', '', None, ''), ('col10', b'float(10,5)', 'YES', '', None, ''), ('col11', b'int', 'YES', '', None, '')]\n"
     ]
    }
   ],
   "source": [
    "try:\n",
    "    mydb = con.connect(host = 'localhost',user = 'root',passwd ='ru15070610',database = 'glass_set')\n",
    "    query = 'DESCRIBE glass_value'\n",
    "    cur = mydb.cursor()\n",
    "    cur.execute(query)\n",
    "    print(cur.fetchall())\n",
    "    # print(mydb)\n",
    "except Exception as e:\n",
    "    print(e)"
   ]
  },
  {
   "cell_type": "markdown",
   "metadata": {},
   "source": [
    "## Checking query"
   ]
  },
  {
   "cell_type": "code",
   "execution_count": 3,
   "metadata": {},
   "outputs": [
    {
     "name": "stdout",
     "output_type": "stream",
     "text": [
      "(1, 10.4, 13.64, 4.49, 2.0, 71.78, 0.06, 8.75, 0.0, 0.0, 1)\n",
      "(1, 10.4, 13.64, 4.49, 2.0, 71.78, 0.06, 8.75, 0.0, 0.0, 1)\n",
      "(1, 10.4, 13.64, 4.49, 2.0, 71.78, 0.06, 8.75, 0.0, 0.0, 1)\n"
     ]
    }
   ],
   "source": [
    "try:\n",
    "    mydb = con.connect(host = 'localhost',user = 'root',passwd ='ru15070610',database = 'glass_set')\n",
    "    query = 'select * from glass_value where col1 =1 or col2 =13.64'\n",
    "    cur = mydb.cursor()\n",
    "    cur.execute(query)\n",
    "    for word in cur.fetchall():\n",
    "        print(word)\n",
    "    # print(mydb)\n",
    "except Exception as e:\n",
    "    print(e)"
   ]
  },
  {
   "cell_type": "code",
   "execution_count": 4,
   "metadata": {},
   "outputs": [
    {
     "name": "stdout",
     "output_type": "stream",
     "text": [
      "(1, 10.4, 13.64, 4.49, 2.0, 71.78, 0.06, 8.75, 0.0, 0.0, 1)\n",
      "(1, 10.4, 13.64, 4.49, 2.0, 71.78, 0.06, 8.75, 0.0, 0.0, 1)\n",
      "(1, 10.4, 13.64, 4.49, 2.0, 71.78, 0.06, 8.75, 0.0, 0.0, 1)\n"
     ]
    }
   ],
   "source": [
    "try:\n",
    "    mydb = con.connect(host = 'localhost',user = 'root',passwd ='ru15070610',database = 'glass_set')\n",
    "    query = 'select * from glass_value where col1 =1 '\n",
    "    cur = mydb.cursor()\n",
    "    cur.execute(query)\n",
    "    for word in cur.fetchall():\n",
    "        print(word)\n",
    "    # print(mydb)\n",
    "except Exception as e:\n",
    "    print(e)"
   ]
  },
  {
   "cell_type": "markdown",
   "metadata": {},
   "source": [
    "## Data Manipulation Language query"
   ]
  },
  {
   "cell_type": "code",
   "execution_count": 3,
   "metadata": {},
   "outputs": [],
   "source": [
    "try:\n",
    "    mydb = con.connect(host = 'localhost',user = 'root',passwd ='ru15070610',database = 'glass_set')\n",
    "    query = 'UPDATE glass_value SET col2 =10.4,col5 = 2 where col1=1 '\n",
    "\n",
    "    cur = mydb.cursor()\n",
    "    cur.execute(query)\n",
    "    mydb.commit()\n",
    "    # print(mydb)\n",
    "except Exception as e:\n",
    "    print(e)"
   ]
  },
  {
   "cell_type": "code",
   "execution_count": 9,
   "metadata": {},
   "outputs": [],
   "source": [
    "def take_query(query):\n",
    "    try:\n",
    "        mydb = con.connect(host = 'localhost',user = 'root',passwd ='ru15070610',database = 'glass_set')\n",
    "        # query = 'UPDATE glass_value SET col2 =10.4,col5 = 2 where col1=1 '\n",
    "\n",
    "        cur = mydb.cursor()\n",
    "        cur.execute(query)\n",
    "        # print(cur.fetchall())\n",
    "        for word in cur.fetchall():\n",
    "            print(word)\n",
    "    except Exception as e:\n",
    "        print(e)"
   ]
  },
  {
   "cell_type": "code",
   "execution_count": 6,
   "metadata": {},
   "outputs": [
    {
     "name": "stdout",
     "output_type": "stream",
     "text": [
      "[(1, 3)]\n"
     ]
    }
   ],
   "source": [
    "query = 'Select col1,count(col1) from glass_value  group by col1 having count(col1) >1'\n",
    "take_query(query)"
   ]
  },
  {
   "cell_type": "code",
   "execution_count": 13,
   "metadata": {},
   "outputs": [
    {
     "name": "stdout",
     "output_type": "stream",
     "text": [
      "(1, 10.4, 13.64, 4.49, 2.0, 71.78, 0.06, 8.75, 0.0, 0.0, 1)\n",
      "(1, 10.4, 13.64, 4.49, 2.0, 71.78, 0.06, 8.75, 0.0, 0.0, 1)\n",
      "(1, 10.4, 13.64, 4.49, 2.0, 71.78, 0.06, 8.75, 0.0, 0.0, 1)\n"
     ]
    }
   ],
   "source": [
    "query = 'select * from glass_value where col1 in (Select col1 from glass_value group by col1 having count(col1)>1)'\n",
    "take_query(query)"
   ]
  },
  {
   "cell_type": "code",
   "execution_count": 14,
   "metadata": {},
   "outputs": [
    {
     "name": "stdout",
     "output_type": "stream",
     "text": [
      "(1, 10.4, 13.64, 4.49, 2.0, 71.78, 0.06, 8.75, 0.0, 0.0, 1)\n"
     ]
    }
   ],
   "source": [
    "query = '(Select * from glass_value group by col1 having count(col1)>1)'\n",
    "take_query(query)"
   ]
  }
 ],
 "metadata": {
  "interpreter": {
   "hash": "1a9f55e6c0c3e8270aaaea3c20f99dc257fa0576e4add963feab5626a78e27dc"
  },
  "kernelspec": {
   "display_name": "Python 3.9.6 64-bit",
   "language": "python",
   "name": "python3"
  },
  "language_info": {
   "codemirror_mode": {
    "name": "ipython",
    "version": 3
   },
   "file_extension": ".py",
   "mimetype": "text/x-python",
   "name": "python",
   "nbconvert_exporter": "python",
   "pygments_lexer": "ipython3",
   "version": "3.9.6"
  },
  "orig_nbformat": 4
 },
 "nbformat": 4,
 "nbformat_minor": 2
}
